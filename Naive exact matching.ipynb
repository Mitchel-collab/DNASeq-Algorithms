{
 "cells": [
  {
   "cell_type": "markdown",
   "id": "53281224",
   "metadata": {},
   "source": [
    "Download Fasta file with reads"
   ]
  },
  {
   "cell_type": "code",
   "execution_count": 1,
   "id": "91682b37",
   "metadata": {
    "scrolled": true
   },
   "outputs": [
    {
     "name": "stdout",
     "output_type": "stream",
     "text": [
      "--2023-06-29 23:32:30--  https://d28rh4a8wq0iu5.cloudfront.net/ads1/data/phix.fa\n",
      "Resolving d28rh4a8wq0iu5.cloudfront.net (d28rh4a8wq0iu5.cloudfront.net)... 52.84.97.208, 52.84.97.123, 52.84.97.40, ...\n",
      "Connecting to d28rh4a8wq0iu5.cloudfront.net (d28rh4a8wq0iu5.cloudfront.net)|52.84.97.208|:443... connected.\n",
      "HTTP request sent, awaiting response... 200 OK\n",
      "Length: 5528 (5.4K) [application/octet-stream]\n",
      "Saving to: ‘phix.fa.1’\n",
      "\n",
      "phix.fa.1           100%[===================>]   5.40K  --.-KB/s    in 0s      \n",
      "\n",
      "2023-06-29 23:32:31 (87.5 MB/s) - ‘phix.fa.1’ saved [5528/5528]\n",
      "\n"
     ]
    }
   ],
   "source": [
    "!wget --no-check https://d28rh4a8wq0iu5.cloudfront.net/ads1/data/phix.fa"
   ]
  },
  {
   "cell_type": "code",
   "execution_count": 2,
   "id": "81483f14",
   "metadata": {},
   "outputs": [],
   "source": [
    "def readGenome(filename):\n",
    "    genome = ''\n",
    "    with open(filename, 'r') as f:\n",
    "        for line in f:\n",
    "            if not line[0] == '>':\n",
    "                genome += line.rstrip()\n",
    "    return genome"
   ]
  },
  {
   "cell_type": "code",
   "execution_count": 3,
   "id": "ff8e94c0",
   "metadata": {},
   "outputs": [],
   "source": [
    "genome = readGenome('phix.fa.1')"
   ]
  },
  {
   "cell_type": "markdown",
   "id": "4e88019b",
   "metadata": {},
   "source": [
    "Naive Exact Algorithm : Alignment without reference genome"
   ]
  },
  {
   "cell_type": "code",
   "execution_count": 4,
   "id": "43e04d01",
   "metadata": {},
   "outputs": [],
   "source": [
    "def naive(p, t):\n",
    "    occurrences = [] #indices where 't' matches 'p'\n",
    "    for i in range(len(t)-len(p) + 1):\n",
    "        match = True\n",
    "        for j in range(len(p)):\n",
    "            if not t[i+j] == p[j]:\n",
    "                match = False\n",
    "                break\n",
    "        if match:\n",
    "            occurrences.append(i)\n",
    "    return occurrences"
   ]
  },
  {
   "cell_type": "code",
   "execution_count": 5,
   "id": "7a64dc6c",
   "metadata": {},
   "outputs": [],
   "source": [
    "#generate reads from random position in the given genome\n",
    "\n",
    "import random\n",
    "def generateReads(genome, numReads, readLen):\n",
    "        \n",
    "    reads = []\n",
    "    for _ in range(numReads):\n",
    "        start = random.randint(0, len(genome)-readLen) - 1\n",
    "        reads.append(genome[start : start+readLen])\n",
    "    return reads"
   ]
  },
  {
   "cell_type": "markdown",
   "id": "ebe8d87d",
   "metadata": {},
   "source": [
    "Matching the artificial reads generated"
   ]
  },
  {
   "cell_type": "code",
   "execution_count": 6,
   "id": "dc7a7e73",
   "metadata": {},
   "outputs": [
    {
     "name": "stdout",
     "output_type": "stream",
     "text": [
      "100 / 100 reads matched exactly\n"
     ]
    }
   ],
   "source": [
    "reads = generateReads(genome, 100, 100)\n",
    "\n",
    "numMatched = 0 #reads that matched\n",
    "for read in reads:\n",
    "    matches = naive(read, genome)\n",
    "    if len(matches)> 0:\n",
    "        numMatched +=1\n",
    "print('%d / %d reads matched exactly' % (numMatched, len(reads)))"
   ]
  },
  {
   "cell_type": "markdown",
   "id": "4c5bbf9e",
   "metadata": {},
   "source": [
    "Matching real reads from genome"
   ]
  },
  {
   "cell_type": "code",
   "execution_count": 7,
   "id": "a6704f1a",
   "metadata": {
    "scrolled": true
   },
   "outputs": [
    {
     "name": "stdout",
     "output_type": "stream",
     "text": [
      "--2023-06-29 23:36:50--  https://d28rh4a8wq0iu5.cloudfront.net/ads1/data/ERR266411_1.first1000.fastq\n",
      "Resolving d28rh4a8wq0iu5.cloudfront.net (d28rh4a8wq0iu5.cloudfront.net)... 52.84.97.75, 52.84.97.208, 52.84.97.40, ...\n",
      "Connecting to d28rh4a8wq0iu5.cloudfront.net (d28rh4a8wq0iu5.cloudfront.net)|52.84.97.75|:443... connected.\n",
      "HTTP request sent, awaiting response... 200 OK\n",
      "Length: 254384 (248K) [audio/mpeg]\n",
      "Saving to: ‘ERR266411_1.first1000.fastq.1’\n",
      "\n",
      "ERR266411_1.first10 100%[===================>] 248.42K  1.19MB/s    in 0.2s    \n",
      "\n",
      "2023-06-29 23:36:51 (1.19 MB/s) - ‘ERR266411_1.first1000.fastq.1’ saved [254384/254384]\n",
      "\n"
     ]
    }
   ],
   "source": [
    "# Download fastq file with 1000 reads\n",
    "!wget --no-check https://d28rh4a8wq0iu5.cloudfront.net/ads1/data/ERR266411_1.first1000.fastq"
   ]
  },
  {
   "cell_type": "code",
   "execution_count": 8,
   "id": "20840b32",
   "metadata": {},
   "outputs": [],
   "source": [
    "def readFastq(filename):\n",
    "    sequences=[]\n",
    "    qualities=[]\n",
    "    with open(filename) as fh:\n",
    "        while True:\n",
    "            fh.readline() # skip name line\n",
    "            seq = fh.readline().rstrip() # read base sequence\n",
    "            fh.readline() # skip placeholder line\n",
    "            qual = fh.readline().rstrip() #base quality line\n",
    "            if len(seq) == 0:\n",
    "                break\n",
    "            sequences.append(seq)\n",
    "            qualities.append(qual)\n",
    "    return sequences, qualities           "
   ]
  },
  {
   "cell_type": "code",
   "execution_count": 9,
   "id": "fa6f83e4",
   "metadata": {},
   "outputs": [],
   "source": [
    "phix_reads, _ = readFastq('ERR266411_1.first1000.fastq.1')"
   ]
  },
  {
   "cell_type": "code",
   "execution_count": 10,
   "id": "ae3d2abd",
   "metadata": {
    "scrolled": true
   },
   "outputs": [
    {
     "name": "stdout",
     "output_type": "stream",
     "text": [
      "7 / 1000 reads matched the genome!\n"
     ]
    }
   ],
   "source": [
    "numMatched = 0\n",
    "n = 0          # 'n' is the total number of reads processed\n",
    "for read in phix_reads:\n",
    "    matches = naive(read, genome)\n",
    "    n += 1\n",
    "    if len(matches) > 0:\n",
    "        numMatched += 1\n",
    "print('%d / %d reads matched the genome!' % (numMatched, n)) # proportion of reads that matched correctly"
   ]
  },
  {
   "cell_type": "markdown",
   "id": "62037bff",
   "metadata": {},
   "source": [
    "Matching a smaller segment of the read\n"
   ]
  },
  {
   "cell_type": "markdown",
   "id": "b96d0dd7",
   "metadata": {},
   "source": [
    "Only 7 read matched the genome from previous matching\n",
    "Could be due to sequencing errors\n",
    "Keep in mind that some reads may be from the complementary strand!"
   ]
  },
  {
   "cell_type": "code",
   "execution_count": 11,
   "id": "10c1fbd2",
   "metadata": {
    "scrolled": true
   },
   "outputs": [
    {
     "name": "stdout",
     "output_type": "stream",
     "text": [
      "459 / 1000 reads matched the genome!\n"
     ]
    }
   ],
   "source": [
    "numMatched = 0\n",
    "n = 0\n",
    "for read in phix_reads:\n",
    "    read = read[:30] # Taking a piece of the read i.e 30 nucleotides instead of 100\n",
    "    matches = naive(read, genome)\n",
    "    n += 1\n",
    "    if len(matches) > 0:\n",
    "        numMatched += 1\n",
    "print('%d / %d reads matched the genome!' % (numMatched, n))\n"
   ]
  },
  {
   "cell_type": "markdown",
   "id": "b78ff2ef",
   "metadata": {},
   "source": [
    "Including the reverse complement in the reads for matching"
   ]
  },
  {
   "cell_type": "code",
   "execution_count": 12,
   "id": "c7ef0280",
   "metadata": {},
   "outputs": [],
   "source": [
    "def reverseComplement(s):\n",
    "    complement = {'A':'T', 'C': 'G', 'G': 'C', 'T': 'A', 'N':'N'}\n",
    "    t =''\n",
    "    for base in s:\n",
    "        t = complement[base] + t\n",
    "        return t"
   ]
  },
  {
   "cell_type": "code",
   "execution_count": 13,
   "id": "00bbb80f",
   "metadata": {},
   "outputs": [
    {
     "name": "stdout",
     "output_type": "stream",
     "text": [
      "1000 / 1000 reads matched the genome!\n"
     ]
    }
   ],
   "source": [
    "numMatched = 0\n",
    "n = 0\n",
    "for read in phix_reads:\n",
    "    read = read[:30] # Take a piece of the read i.e 30 nucleotides instead of 100\n",
    "    matches = naive(read, genome) # test match of read in forward direction of genome\n",
    "    matches.extend(naive(reverseComplement(read), genome)) # add matches of forward reads to the reads of the reverse complement of the genome\n",
    "    n += 1\n",
    "    if len(matches) > 0:\n",
    "        numMatched += 1\n",
    "print('%d / %d reads matched the genome!' % (numMatched, n))\n"
   ]
  }
 ],
 "metadata": {
  "kernelspec": {
   "display_name": "Python 3 (ipykernel)",
   "language": "python",
   "name": "python3"
  },
  "language_info": {
   "codemirror_mode": {
    "name": "ipython",
    "version": 3
   },
   "file_extension": ".py",
   "mimetype": "text/x-python",
   "name": "python",
   "nbconvert_exporter": "python",
   "pygments_lexer": "ipython3",
   "version": "3.10.6"
  }
 },
 "nbformat": 4,
 "nbformat_minor": 5
}
